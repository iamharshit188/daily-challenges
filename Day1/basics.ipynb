{
 "cells": [
  {
   "cell_type": "markdown",
   "id": "7a145062-b0ab-4ca0-a44a-f73bbcbb1a72",
   "metadata": {},
   "source": [
    "## Day 1: Basics of Python and JupyterNotebook\n",
    "\n",
    "- Understanding Basics of Python\n",
    "- Basics of JupterNotebook\n",
    "    - Installation\n",
    "- Syntax\n",
    "- Datatypes\n",
    "\n"
   ]
  },
  {
   "cell_type": "code",
   "execution_count": 13,
   "id": "fb66f315-f9ca-4019-85ba-585a7aca6964",
   "metadata": {},
   "outputs": [
    {
     "name": "stdin",
     "output_type": "stream",
     "text": [
      "enter a input 12\n",
      "Enter real age 123\n"
     ]
    },
    {
     "data": {
      "text/plain": [
       "bool"
      ]
     },
     "execution_count": 13,
     "metadata": {},
     "output_type": "execute_result"
    }
   ],
   "source": [
    "# Basic Mathematical Operations in Python\n",
    "1 + 1 \n",
    "2 + 2 \n",
    "'''\n",
    "Multiline Comment \n",
    "'''\n",
    "# taking input\n",
    "age = input(\"enter a input\")\n",
    "\n",
    "# To check the type of Variable \n",
    "type(age)\n",
    "ageNumber = int(input(\"Enter real age\"))\n",
    "type(ageNumber)\n",
    "type(True)\n"
   ]
  },
  {
   "cell_type": "markdown",
   "id": "e76abcaf-6e2f-4ccd-9615-69cb1a470019",
   "metadata": {},
   "source": [
    "## String in Python"
   ]
  },
  {
   "cell_type": "code",
   "execution_count": 16,
   "id": "1ae303d4-5beb-4e86-9408-06049558c87a",
   "metadata": {},
   "outputs": [
    {
     "data": {
      "text/plain": [
       "'Hello'"
      ]
     },
     "execution_count": 16,
     "metadata": {},
     "output_type": "execute_result"
    }
   ],
   "source": [
    "\"Hello\"\n"
   ]
  },
  {
   "cell_type": "code",
   "execution_count": 27,
   "id": "51e19e9d-8ff0-4ee7-b799-734744cd09bc",
   "metadata": {},
   "outputs": [
    {
     "name": "stdout",
     "output_type": "stream",
     "text": [
      "30\n",
      "Hello my name is Harshit  and i am 20\n",
      "Lenght of my name is :\n"
     ]
    },
    {
     "data": {
      "text/plain": [
       "8"
      ]
     },
     "execution_count": 27,
     "metadata": {},
     "output_type": "execute_result"
    }
   ],
   "source": [
    "# Variable Assignemnt\n",
    "a = 10 \n",
    "name = \"Harshit \"\n",
    "b = 20\n",
    "print(a+b)\n",
    "# print(name*2134)\n",
    "\n",
    "print(\"Hello my name is {} and i am {}\".format(name,b))\n",
    "print(\"Lenght of my name is :\")\n",
    "len(name)\n"
   ]
  },
  {
   "cell_type": "code",
   "execution_count": null,
   "id": "c6a044e4-d393-47c2-a14d-c51f889765d2",
   "metadata": {},
   "outputs": [],
   "source": []
  }
 ],
 "metadata": {
  "kernelspec": {
   "display_name": "Python 3 (ipykernel)",
   "language": "python",
   "name": "python3"
  },
  "language_info": {
   "codemirror_mode": {
    "name": "ipython",
    "version": 3
   },
   "file_extension": ".py",
   "mimetype": "text/x-python",
   "name": "python",
   "nbconvert_exporter": "python",
   "pygments_lexer": "ipython3",
   "version": "3.13.4"
  }
 },
 "nbformat": 4,
 "nbformat_minor": 5
}
