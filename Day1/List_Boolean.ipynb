{
 "cells": [
  {
   "cell_type": "code",
   "execution_count": 1,
   "id": "0656a6d9-c2d9-41d0-871d-e008a118e56b",
   "metadata": {},
   "outputs": [
    {
     "data": {
      "text/plain": [
       "True"
      ]
     },
     "execution_count": 1,
     "metadata": {},
     "output_type": "execute_result"
    }
   ],
   "source": [
    "## Boolean Functions \n",
    "type(True)\n",
    "True"
   ]
  },
  {
   "cell_type": "code",
   "execution_count": 2,
   "id": "9d52061a-ec61-43aa-9f87-ae881753bfef",
   "metadata": {},
   "outputs": [
    {
     "data": {
      "text/plain": [
       "False"
      ]
     },
     "execution_count": 2,
     "metadata": {},
     "output_type": "execute_result"
    }
   ],
   "source": [
    "## Boolean Functions \n",
    "type(False)\n",
    "False"
   ]
  },
  {
   "cell_type": "code",
   "execution_count": 3,
   "id": "0e97b828-8439-430a-9ad5-b7311c3d988b",
   "metadata": {},
   "outputs": [
    {
     "name": "stdout",
     "output_type": "stream",
     "text": [
      "False\n",
      "Harshit Tiwari\n"
     ]
    }
   ],
   "source": [
    "str = \"Harshit Tiwari\"\n",
    "print(str.isupper())\n",
    "print(str)"
   ]
  },
  {
   "cell_type": "markdown",
   "id": "c4a4dad3-323b-4707-916b-a5323c739f0f",
   "metadata": {},
   "source": [
    "## Boolean and Logical Operators \n"
   ]
  },
  {
   "cell_type": "code",
   "execution_count": 4,
   "id": "13df28c9-6a50-463b-ba3d-33df0fd3c185",
   "metadata": {},
   "outputs": [
    {
     "data": {
      "text/plain": [
       "False"
      ]
     },
     "execution_count": 4,
     "metadata": {},
     "output_type": "execute_result"
    }
   ],
   "source": [
    "True and False"
   ]
  },
  {
   "cell_type": "code",
   "execution_count": 5,
   "id": "9b964a6f-803d-442a-9ab5-0442437f946c",
   "metadata": {},
   "outputs": [
    {
     "data": {
      "text/plain": [
       "True"
      ]
     },
     "execution_count": 5,
     "metadata": {},
     "output_type": "execute_result"
    }
   ],
   "source": [
    "True and True\n",
    "    "
   ]
  },
  {
   "cell_type": "code",
   "execution_count": 6,
   "id": "ea6c776c-870a-4cfa-91b6-bce81a613591",
   "metadata": {},
   "outputs": [
    {
     "data": {
      "text/plain": [
       "False"
      ]
     },
     "execution_count": 6,
     "metadata": {},
     "output_type": "execute_result"
    }
   ],
   "source": [
    "False and False\n"
   ]
  },
  {
   "cell_type": "code",
   "execution_count": 7,
   "id": "14fc240b-a8aa-493d-a4f8-96b54b1ccb6d",
   "metadata": {},
   "outputs": [
    {
     "data": {
      "text/plain": [
       "True"
      ]
     },
     "execution_count": 7,
     "metadata": {},
     "output_type": "execute_result"
    }
   ],
   "source": [
    "True or False"
   ]
  },
  {
   "cell_type": "code",
   "execution_count": 8,
   "id": "16f56781-ed7b-4bcd-abea-510cb8e661e2",
   "metadata": {},
   "outputs": [
    {
     "data": {
      "text/plain": [
       "False"
      ]
     },
     "execution_count": 8,
     "metadata": {},
     "output_type": "execute_result"
    }
   ],
   "source": [
    "False and True"
   ]
  },
  {
   "cell_type": "markdown",
   "id": "8fe8ed07-ed2d-4de3-ab7e-2a78caf52813",
   "metadata": {},
   "source": [
    "## List in Python\n",
    "\n",
    "A list is a DataStructure in python that is mutable, or changeable, ordered sequence of elements. Each element or Value which is inside list is called item. List are defined within a [].\n"
   ]
  },
  {
   "cell_type": "code",
   "execution_count": 9,
   "id": "7e2f08e4-6be3-449d-b899-68b2fbe5838b",
   "metadata": {},
   "outputs": [
    {
     "data": {
      "text/plain": [
       "list"
      ]
     },
     "execution_count": 9,
     "metadata": {},
     "output_type": "execute_result"
    }
   ],
   "source": [
    "lst_example= []\n",
    "type(lst_example)"
   ]
  },
  {
   "cell_type": "code",
   "execution_count": 10,
   "id": "a72c05f4-d595-46fe-9731-8f41598e8813",
   "metadata": {},
   "outputs": [
    {
     "data": {
      "text/plain": [
       "list"
      ]
     },
     "execution_count": 10,
     "metadata": {},
     "output_type": "execute_result"
    }
   ],
   "source": [
    "type([])"
   ]
  },
  {
   "cell_type": "code",
   "execution_count": 43,
   "id": "c3c458ac-862f-497c-bfa3-d204f269aa50",
   "metadata": {},
   "outputs": [
    {
     "data": {
      "text/plain": [
       "['Apple',\n",
       " 'Mango',\n",
       " 'Samsung',\n",
       " 'Xiaomi',\n",
       " 100,\n",
       " 200,\n",
       " 2030,\n",
       " 'NewEnteredValue',\n",
       " ['john', 'wick']]"
      ]
     },
     "execution_count": 43,
     "metadata": {},
     "output_type": "execute_result"
    }
   ],
   "source": [
    "lst = list()\n",
    "type(lst)\n",
    "lst=['Apple','Mango','Samsung','Xiaomi', 100, 200 , 2030]\n",
    "len(lst)\n",
    "#Indexing in list\n",
    "lst.append(\"NewEnteredValue\")\n",
    "\n",
    "# We can also append nested lists \n",
    "lst.append([\"john\",\"wick\"])\n",
    "lst"
   ]
  },
  {
   "cell_type": "code",
   "execution_count": 45,
   "id": "bd22c8cb-53c3-47ac-9df1-d31c40a567dd",
   "metadata": {},
   "outputs": [
    {
     "ename": "TypeError",
     "evalue": "unsupported operand type(s) for +: 'int' and 'str'",
     "output_type": "error",
     "traceback": [
      "\u001b[31m---------------------------------------------------------------------------\u001b[39m",
      "\u001b[31mTypeError\u001b[39m                                 Traceback (most recent call last)",
      "\u001b[36mCell\u001b[39m\u001b[36m \u001b[39m\u001b[32mIn[45]\u001b[39m\u001b[32m, line 5\u001b[39m\n\u001b[32m      3\u001b[39m lst.insert(\u001b[32m3\u001b[39m,\u001b[33m\"\u001b[39m\u001b[33mElementInsertedbyInsertFunction\u001b[39m\u001b[33m\"\u001b[39m)\n\u001b[32m      4\u001b[39m lst\n\u001b[32m----> \u001b[39m\u001b[32m5\u001b[39m \u001b[38;5;28;43msum\u001b[39;49m\u001b[43m(\u001b[49m\u001b[43mlst\u001b[49m\u001b[43m)\u001b[49m\n",
      "\u001b[31mTypeError\u001b[39m: unsupported operand type(s) for +: 'int' and 'str'"
     ]
    }
   ],
   "source": [
    "# We can insert values as well in the specified indexes\n",
    "\n",
    "lst.insert(3,\"ElementInsertedbyInsertFunction\")\n",
    "lst\n",
    "sum(lst)"
   ]
  },
  {
   "cell_type": "code",
   "execution_count": 20,
   "id": "90ab5eed-b3b2-4172-9560-933b44c6c0d0",
   "metadata": {},
   "outputs": [
    {
     "data": {
      "text/plain": [
       "'Xiaomi'"
      ]
     },
     "execution_count": 20,
     "metadata": {},
     "output_type": "execute_result"
    }
   ],
   "source": [
    "#Indexing in list\n",
    "lst[3]\n",
    "\n"
   ]
  },
  {
   "cell_type": "code",
   "execution_count": 23,
   "id": "82128c70-9d67-4dc7-880b-969a4e795c7d",
   "metadata": {},
   "outputs": [
    {
     "data": {
      "text/plain": [
       "['Samsung', 'Xiaomi', 100, 200, 2030, 'NewEnteredValue']"
      ]
     },
     "execution_count": 23,
     "metadata": {},
     "output_type": "execute_result"
    }
   ],
   "source": [
    "# Indexing in list\n",
    "lst[2]  \n",
    "# using range operator\n",
    "lst[2:]\n",
    "## This takes two values. first one that starts with 0 and then n - 1 "
   ]
  },
  {
   "cell_type": "code",
   "execution_count": 50,
   "id": "ee4c2466-851b-4339-84f8-04f1a58ce874",
   "metadata": {},
   "outputs": [
    {
     "data": {
      "text/plain": [
       "61"
      ]
     },
     "execution_count": 50,
     "metadata": {},
     "output_type": "execute_result"
    }
   ],
   "source": [
    "lst=[1,2,3,4,5,6,7]\n",
    "lst.extend([7,8,9,10])\n",
    "lst\n",
    "# extend functions extends the values in the list without making nested list\n",
    "sum(lst)"
   ]
  },
  {
   "cell_type": "code",
   "execution_count": 63,
   "id": "e707a6dd-5c14-4a8c-b5b6-1116ccede914",
   "metadata": {},
   "outputs": [
    {
     "data": {
      "text/plain": [
       "67"
      ]
     },
     "execution_count": 63,
     "metadata": {},
     "output_type": "execute_result"
    }
   ],
   "source": [
    "lst.insert(0,1)\n",
    "# lst.pop(0)\n",
    "sum(lst)"
   ]
  },
  {
   "cell_type": "code",
   "execution_count": 66,
   "id": "130d2b3e-b84d-4251-a302-a1d3dafadfa3",
   "metadata": {},
   "outputs": [
    {
     "data": {
      "text/plain": [
       "[1, 1, 1, 1, 1, 1, 1, 1, 3, 4, 5, 6, 7, 7, 8, 9, 10]"
      ]
     },
     "execution_count": 66,
     "metadata": {},
     "output_type": "execute_result"
    }
   ],
   "source": [
    "lst"
   ]
  },
  {
   "cell_type": "code",
   "execution_count": 70,
   "id": "89d8d2c7-f42e-48ae-9f93-632ef20e7290",
   "metadata": {},
   "outputs": [
    {
     "data": {
      "text/plain": [
       "[1,\n",
       " 1,\n",
       " 1,\n",
       " 2,\n",
       " 2,\n",
       " 2,\n",
       " 1,\n",
       " 1,\n",
       " 1,\n",
       " 1,\n",
       " 1,\n",
       " 3,\n",
       " 4,\n",
       " 5,\n",
       " 6,\n",
       " 7,\n",
       " 7,\n",
       " 8,\n",
       " 9,\n",
       " 10,\n",
       " 1,\n",
       " 1,\n",
       " 1,\n",
       " 2,\n",
       " 2,\n",
       " 2,\n",
       " 1,\n",
       " 1,\n",
       " 1,\n",
       " 1,\n",
       " 1,\n",
       " 3,\n",
       " 4,\n",
       " 5,\n",
       " 6,\n",
       " 7,\n",
       " 7,\n",
       " 8,\n",
       " 9,\n",
       " 10,\n",
       " 1,\n",
       " 1,\n",
       " 1,\n",
       " 2,\n",
       " 2,\n",
       " 2,\n",
       " 1,\n",
       " 1,\n",
       " 1,\n",
       " 1,\n",
       " 1,\n",
       " 3,\n",
       " 4,\n",
       " 5,\n",
       " 6,\n",
       " 7,\n",
       " 7,\n",
       " 8,\n",
       " 9,\n",
       " 10,\n",
       " 1,\n",
       " 1,\n",
       " 1,\n",
       " 2,\n",
       " 2,\n",
       " 2,\n",
       " 1,\n",
       " 1,\n",
       " 1,\n",
       " 1,\n",
       " 1,\n",
       " 3,\n",
       " 4,\n",
       " 5,\n",
       " 6,\n",
       " 7,\n",
       " 7,\n",
       " 8,\n",
       " 9,\n",
       " 10,\n",
       " 1,\n",
       " 1,\n",
       " 1,\n",
       " 2,\n",
       " 2,\n",
       " 2,\n",
       " 1,\n",
       " 1,\n",
       " 1,\n",
       " 1,\n",
       " 1,\n",
       " 3,\n",
       " 4,\n",
       " 5,\n",
       " 6,\n",
       " 7,\n",
       " 7,\n",
       " 8,\n",
       " 9,\n",
       " 10]"
      ]
     },
     "execution_count": 70,
     "metadata": {},
     "output_type": "execute_result"
    }
   ],
   "source": [
    "lst.count(1)\n",
    "lst.insert(3,2)\n",
    "lst.index(1,3,8)\n",
    "lst*5\n",
    "# This would multiply the list accordingly"
   ]
  }
 ],
 "metadata": {
  "kernelspec": {
   "display_name": "Python 3 (ipykernel)",
   "language": "python",
   "name": "python3"
  },
  "language_info": {
   "codemirror_mode": {
    "name": "ipython",
    "version": 3
   },
   "file_extension": ".py",
   "mimetype": "text/x-python",
   "name": "python",
   "nbconvert_exporter": "python",
   "pygments_lexer": "ipython3",
   "version": "3.13.4"
  }
 },
 "nbformat": 4,
 "nbformat_minor": 5
}
