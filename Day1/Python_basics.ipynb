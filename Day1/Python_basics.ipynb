{
  "nbformat": 4,
  "nbformat_minor": 0,
  "metadata": {
    "colab": {
      "name": "Python basics",
      "provenance": []
    },
    "kernelspec": {
      "name": "python3",
      "display_name": "Python 3"
    }
  },
  "cells": [
    {
      "cell_type": "markdown",
      "metadata": {
        "id": "JbVT11Y8CbAu"
      },
      "source": [
        "# Welcome"
      ]
    },
    {
      "cell_type": "markdown",
      "metadata": {
        "id": "kw1B2R_WCU7X"
      },
      "source": [
        "Welcome to the first practical work of the week! In this practical, we will learn about the programming language Python as well as NumPy and Matplotlib, two fundamental tools for data science and machine learning in Python."
      ]
    },
    {
      "cell_type": "markdown",
      "metadata": {
        "id": "YV4sYCn8EPwb"
      },
      "source": [
        "# Notebooks"
      ]
    },
    {
      "cell_type": "markdown",
      "metadata": {
        "id": "2HuuwOcQEYQI"
      },
      "source": [
        "This week, we will use Jupyter notebooks and Google colab as the primary way to practice machine learning. Notebooks are a great way to mix executable code with rich contents (HTML, images, equations written in LaTeX). Colab allows to run notebooks on the cloud for free without any prior installation, while leveraging the power of [GPUs](https://en.wikipedia.org/wiki/Graphics_processing_unit)."
      ]
    },
    {
      "cell_type": "markdown",
      "metadata": {
        "id": "t0XmMkPuGGOs"
      },
      "source": [
        "The document that you are reading is not a static web page, but an interactive environment called a notebook, that lets you write and execute code. Notebooks consist of so-called code cells, blocks of one or more Python instructions. For example, here is a code cell that stores the result of a computation (the number of seconds in a day) in a variable and prints its value:"
      ]
    },
    {
      "cell_type": "code",
      "metadata": {
        "id": "qeGAvLq1ALJ4",
        "colab": {
          "base_uri": "https://localhost:8080/"
        },
        "outputId": "d9b82897-a1b2-4df0-bc45-5d1922b7b3a8"
      },
      "source": [
        "seconds_in_a_day = 24 * 60 * 60\n",
        "seconds_in_a_day"
      ],
      "execution_count": 2,
      "outputs": [
        {
          "output_type": "execute_result",
          "data": {
            "text/plain": [
              "86400"
            ]
          },
          "metadata": {},
          "execution_count": 2
        }
      ]
    },
    {
      "cell_type": "markdown",
      "metadata": {
        "id": "njoPs3q1G75-"
      },
      "source": [
        "Click on the \"play\" button to execute the cell. You should be able to see the result. Alternatively, you can also execute the cell by pressing Ctrl + Enter if you are on Windows / Linux or Command + Enter if you are on a Mac."
      ]
    },
    {
      "cell_type": "markdown",
      "metadata": {
        "id": "NvdYaBgHHdbw"
      },
      "source": [
        "Variables that you defined in one cell can later be used in other cells:"
      ]
    },
    {
      "cell_type": "code",
      "metadata": {
        "id": "s1kp5Zv0JBSx",
        "colab": {
          "base_uri": "https://localhost:8080/"
        },
        "outputId": "8a17c67c-ae14-4a24-b8fa-88e9e8fb6a3d"
      },
      "source": [
        "seconds_in_a_week = 7 * seconds_in_a_day\n",
        "seconds_in_a_week"
      ],
      "execution_count": 3,
      "outputs": [
        {
          "output_type": "execute_result",
          "data": {
            "text/plain": [
              "604800"
            ]
          },
          "metadata": {},
          "execution_count": 3
        }
      ]
    },
    {
      "cell_type": "markdown",
      "metadata": {
        "id": "uALfY4q1JFQ0"
      },
      "source": [
        "Note that the order of execution is important. For instance, if we do not run the cell storing *seconds_in_a_day* beforehand, the above cell will raise an error, as it depends on this variable. To make sure that you run all the cells in the correct order, you can also click on \"Runtime\" in the top-level menu, then \"Run all\"."
      ]
    },
    {
      "cell_type": "markdown",
      "metadata": {
        "id": "HvXs_KaoRWQ9"
      },
      "source": [
        "**Exercise.** Add a cell below this cell: click on this cell then click on \"+ Code\". In the new cell, compute the number of seconds in a year by reusing the variable *seconds_in_a_day*. Run the new cell."
      ]
    },
    {
      "cell_type": "markdown",
      "metadata": {
        "id": "qyLSwlxnJqXX"
      },
      "source": [
        "# Python"
      ]
    },
    {
      "cell_type": "markdown",
      "metadata": {
        "id": "3ltwm91eJyQM"
      },
      "source": [
        "Python is one of the most popular programming languages for machine learning, both in academia and in industry. As such, it is essential to learn this language for anyone interested in machine learning. In this section, we will review Python basics."
      ]
    },
    {
      "cell_type": "markdown",
      "metadata": {
        "id": "3EKvP6jiMZ9H"
      },
      "source": [
        "## Arithmetic operations"
      ]
    },
    {
      "cell_type": "markdown",
      "metadata": {
        "id": "DDjs0-7YQ80h"
      },
      "source": [
        "Python supports the usual arithmetic operators: + (addition), * (multiplication), / (division), ** (power), // (integer division)."
      ]
    },
    {
      "cell_type": "code",
      "source": [
        "a = 10\n",
        "b = 32\n",
        "c = 131\n",
        "d = a * b * c - a * b / c + c * a * a + ( c * c * c - ( b * b * b ) - (a * a * a))\n",
        "print (d)\n"
      ],
      "metadata": {
        "colab": {
          "base_uri": "https://localhost:8080/"
        },
        "id": "sZGwHy-maT1M",
        "outputId": "f861a771-02e0-4aa6-b5f1-2469429fa880"
      },
      "execution_count": 5,
      "outputs": [
        {
          "output_type": "stream",
          "name": "stdout",
          "text": [
            "2269340.5572519084\n"
          ]
        }
      ]
    },
    {
      "cell_type": "markdown",
      "metadata": {
        "id": "UhcbBQUiStHG"
      },
      "source": [
        "## Lists"
      ]
    },
    {
      "cell_type": "markdown",
      "metadata": {
        "id": "RkPn1IjNTCxA"
      },
      "source": [
        "Lists are a container type for ordered sequences of elements. Lists can be initialized empty"
      ]
    },
    {
      "cell_type": "code",
      "metadata": {
        "id": "OrnV1ySAPtHp"
      },
      "source": [
        "my_list = []"
      ],
      "execution_count": 6,
      "outputs": []
    },
    {
      "cell_type": "markdown",
      "metadata": {
        "id": "OwRqyYI9XnPK"
      },
      "source": [
        "or with some initial elements"
      ]
    },
    {
      "cell_type": "code",
      "metadata": {
        "id": "Uq5YTJ1JXpOX"
      },
      "source": [
        "my_list = [1, 2, 3]"
      ],
      "execution_count": 7,
      "outputs": []
    },
    {
      "cell_type": "markdown",
      "metadata": {
        "id": "Hk2WmojJXyyz"
      },
      "source": [
        "Lists have a dynamic size and elements can be added (appended) to them, Hence Lists are mutable, meaning they can be changed later on as well."
      ]
    },
    {
      "cell_type": "code",
      "metadata": {
        "id": "QFTNqiYiXxAh",
        "colab": {
          "base_uri": "https://localhost:8080/"
        },
        "outputId": "2ee1641c-7470-44b1-ef0c-64db7ceb3042"
      },
      "source": [
        "my_list.append(4)\n",
        "my_list"
      ],
      "execution_count": 8,
      "outputs": [
        {
          "output_type": "execute_result",
          "data": {
            "text/plain": [
              "[1, 2, 3, 4]"
            ]
          },
          "metadata": {},
          "execution_count": 8
        }
      ]
    },
    {
      "cell_type": "markdown",
      "metadata": {
        "id": "IUnJuqQ2Yhzw"
      },
      "source": [
        "We can access individual elements of a list (indexing starts from 0)"
      ]
    },
    {
      "cell_type": "code",
      "metadata": {
        "id": "pyFxyZPVYpG_",
        "colab": {
          "base_uri": "https://localhost:8080/",
          "height": 34
        },
        "outputId": "7efb0bc1-25fb-4849-8d3a-cfa62b94a175"
      },
      "source": [
        "my_list[2]"
      ],
      "execution_count": null,
      "outputs": [
        {
          "output_type": "execute_result",
          "data": {
            "text/plain": [
              "3"
            ]
          },
          "metadata": {
            "tags": []
          },
          "execution_count": 10
        }
      ]
    },
    {
      "cell_type": "markdown",
      "metadata": {
        "id": "hPMrIDYsdgMP"
      },
      "source": [
        "We can access \"slices\" of a list using `my_list[i:j]` where `i` is the start of the slice (again, indexing starts from 0) and `j` the end of the slice. For instance:"
      ]
    },
    {
      "cell_type": "code",
      "metadata": {
        "id": "Ichf9p0gd7tJ",
        "colab": {
          "base_uri": "https://localhost:8080/",
          "height": 34
        },
        "outputId": "5f4ec085-431e-4e16-aab1-8708f2c931d4"
      },
      "source": [
        "my_list[1:3]"
      ],
      "execution_count": null,
      "outputs": [
        {
          "output_type": "execute_result",
          "data": {
            "text/plain": [
              "[2, 3]"
            ]
          },
          "metadata": {
            "tags": []
          },
          "execution_count": 14
        }
      ]
    },
    {
      "cell_type": "markdown",
      "metadata": {
        "id": "KMbzH4tzQ9rI"
      },
      "source": [
        "Omitting the second index means that the slice shoud run until the end of the list"
      ]
    },
    {
      "cell_type": "code",
      "metadata": {
        "id": "O7wCthKnREKV",
        "colab": {
          "base_uri": "https://localhost:8080/"
        },
        "outputId": "5ec390df-4a48-4f5b-bb1a-26abc32575d0"
      },
      "source": [
        "my_list[1:]"
      ],
      "execution_count": 9,
      "outputs": [
        {
          "output_type": "execute_result",
          "data": {
            "text/plain": [
              "[2, 3, 4]"
            ]
          },
          "metadata": {},
          "execution_count": 9
        }
      ]
    },
    {
      "cell_type": "markdown",
      "metadata": {
        "id": "C5Aeu7PUebrK"
      },
      "source": [
        "We can check if an element is in the list using `in`"
      ]
    },
    {
      "cell_type": "code",
      "metadata": {
        "id": "a_P5NCi-efvb",
        "colab": {
          "base_uri": "https://localhost:8080/",
          "height": 34
        },
        "outputId": "5012122e-f02c-4474-ec51-6ef8519e5733"
      },
      "source": [
        "5 in my_list"
      ],
      "execution_count": null,
      "outputs": [
        {
          "output_type": "execute_result",
          "data": {
            "text/plain": [
              "False"
            ]
          },
          "metadata": {
            "tags": []
          },
          "execution_count": 15
        }
      ]
    },
    {
      "cell_type": "markdown",
      "metadata": {
        "id": "LypIsP5gkl10"
      },
      "source": [
        "The length of a list can be obtained using the `len` function"
      ]
    },
    {
      "cell_type": "code",
      "metadata": {
        "id": "ac0FMsaKkrWc",
        "colab": {
          "base_uri": "https://localhost:8080/",
          "height": 34
        },
        "outputId": "0a7418d2-67a1-419c-e12b-e6ffb3b4b66d"
      },
      "source": [
        "len(my_list)"
      ],
      "execution_count": null,
      "outputs": [
        {
          "output_type": "execute_result",
          "data": {
            "text/plain": [
              "4"
            ]
          },
          "metadata": {
            "tags": []
          },
          "execution_count": 24
        }
      ]
    },
    {
      "cell_type": "markdown",
      "metadata": {
        "id": "1c3RLStf7G2I"
      },
      "source": [
        "## Strings"
      ]
    },
    {
      "cell_type": "markdown",
      "metadata": {
        "id": "Jm6hZhgz7KhI"
      },
      "source": [
        "Strings are used to store text. They can delimited using either single quotes or double quotes"
      ]
    },
    {
      "cell_type": "code",
      "metadata": {
        "id": "cCma6Oj_7T8n"
      },
      "source": [
        "string1 = \"some text\"\n",
        "string2 = 'some other text'"
      ],
      "execution_count": null,
      "outputs": []
    },
    {
      "cell_type": "markdown",
      "metadata": {
        "id": "Irr4xuWu7Znu"
      },
      "source": [
        "Strings behave similarly to lists. As such we can access individual elements in exactly the same way"
      ]
    },
    {
      "cell_type": "code",
      "metadata": {
        "id": "26_POhLO7iM3",
        "colab": {
          "base_uri": "https://localhost:8080/",
          "height": 35
        },
        "outputId": "fa06d3b9-c683-4b05-bedc-36bc43f57bd4"
      },
      "source": [
        "string1[3]"
      ],
      "execution_count": null,
      "outputs": [
        {
          "output_type": "execute_result",
          "data": {
            "application/vnd.google.colaboratory.intrinsic+json": {
              "type": "string"
            },
            "text/plain": [
              "'e'"
            ]
          },
          "metadata": {
            "tags": []
          },
          "execution_count": 49
        }
      ]
    },
    {
      "cell_type": "markdown",
      "metadata": {
        "id": "oA_UD0JV7oPw"
      },
      "source": [
        "and similarly for slices"
      ]
    },
    {
      "cell_type": "code",
      "metadata": {
        "id": "dcZFcLqQ7qCe",
        "colab": {
          "base_uri": "https://localhost:8080/",
          "height": 35
        },
        "outputId": "aba6c437-ade3-49da-9e6a-9383eab01fa9"
      },
      "source": [
        "string1[5:]"
      ],
      "execution_count": null,
      "outputs": [
        {
          "output_type": "execute_result",
          "data": {
            "application/vnd.google.colaboratory.intrinsic+json": {
              "type": "string"
            },
            "text/plain": [
              "'text'"
            ]
          },
          "metadata": {
            "tags": []
          },
          "execution_count": 53
        }
      ]
    },
    {
      "cell_type": "markdown",
      "metadata": {
        "id": "hOQ_CIiu76YG"
      },
      "source": [
        "String concatenation is performed using the `+` operator"
      ]
    },
    {
      "cell_type": "code",
      "metadata": {
        "id": "mxqNMKCY79_W",
        "colab": {
          "base_uri": "https://localhost:8080/",
          "height": 35
        },
        "outputId": "e5695c9e-0703-49b3-9608-b57ca8375ba9"
      },
      "source": [
        "string1 + \" \" + string2"
      ],
      "execution_count": null,
      "outputs": [
        {
          "output_type": "execute_result",
          "data": {
            "application/vnd.google.colaboratory.intrinsic+json": {
              "type": "string"
            },
            "text/plain": [
              "'some text some other text'"
            ]
          },
          "metadata": {
            "tags": []
          },
          "execution_count": 55
        }
      ]
    },
    {
      "cell_type": "markdown",
      "metadata": {
        "id": "7Lox2GZCMdIB"
      },
      "source": [
        "## Conditionals"
      ]
    },
    {
      "cell_type": "markdown",
      "metadata": {
        "id": "-gXEAWFZfDTT"
      },
      "source": [
        "As their name indicates, conditionals are a way to execute code depending on whether a condition is True or False. As in other languages, Python supports `if` and `else` but `else if` is contracted into `elif`, as the example below demonstrates."
      ]
    },
    {
      "cell_type": "code",
      "metadata": {
        "id": "xC_DMZjofoYZ",
        "colab": {
          "base_uri": "https://localhost:8080/"
        },
        "outputId": "6fbde9e5-7f7f-4e45-c4d0-940a607a1c49"
      },
      "source": [
        "my_variable = 3\n",
        "if my_variable < 0:\n",
        "    print(\"negative\")\n",
        "elif my_variable == 0:\n",
        "    print(\"null\")\n",
        "else: # my_variable > 0\n",
        "    print(\"positive\")"
      ],
      "execution_count": 18,
      "outputs": [
        {
          "output_type": "stream",
          "name": "stdout",
          "text": [
            "positive\n"
          ]
        }
      ]
    },
    {
      "cell_type": "markdown",
      "metadata": {
        "id": "Ag0SUokSf9jl"
      },
      "source": [
        "Here `<` and `>` are the strict `less` and `greater than` operators, while `==` is the equality operator (not to be confused with `=`, the variable assignment operator). The operators `<=` and `>=` can be used for less (resp. greater) than or equal comparisons."
      ]
    },
    {
      "cell_type": "markdown",
      "metadata": {
        "id": "qTkQ2F_jy8wz"
      },
      "source": [
        "Contrary to other languages, blocks of code are delimited using indentation. Here, we use 2-space indentation but many programmers also use 4-space indentation. Any one is fine as long as you are consistent throughout your code."
      ]
    },
    {
      "cell_type": "markdown",
      "metadata": {
        "id": "clWaFCzBMfkv"
      },
      "source": [
        "## Loops\n",
        "![image.png](data:image/png;base64,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)"
      ]
    },
    {
      "cell_type": "markdown",
      "metadata": {
        "id": "_A5doqhTivWe"
      },
      "source": [
        "Loops are a way to execute a block of code multiple times. There are two main types of loops: while loops and for loops."
      ]
    },
    {
      "cell_type": "markdown",
      "metadata": {
        "id": "YN8lwTxQkGEa"
      },
      "source": [
        "While loop"
      ]
    },
    {
      "cell_type": "code",
      "source": [
        "my_list = [ 1, 2, 3,4,4,5]"
      ],
      "metadata": {
        "id": "4Iv7NyEojctB"
      },
      "execution_count": 21,
      "outputs": []
    },
    {
      "cell_type": "code",
      "metadata": {
        "id": "7-QXGqgOjsr_",
        "colab": {
          "base_uri": "https://localhost:8080/"
        },
        "outputId": "11b310b4-434c-404b-f797-9c1ac8623764"
      },
      "source": [
        "i = 0\n",
        "while i < len(my_list):\n",
        "  print(my_list[i])\n",
        "  i += 1 # equivalent to i = i + 1"
      ],
      "execution_count": 22,
      "outputs": [
        {
          "output_type": "stream",
          "name": "stdout",
          "text": [
            "1\n",
            "2\n",
            "3\n",
            "4\n",
            "4\n",
            "5\n"
          ]
        }
      ]
    },
    {
      "cell_type": "markdown",
      "metadata": {
        "id": "8mEI_ocfkSvZ"
      },
      "source": [
        "For loop"
      ]
    },
    {
      "cell_type": "code",
      "metadata": {
        "id": "2QObx5mckMcI",
        "colab": {
          "base_uri": "https://localhost:8080/",
          "height": 85
        },
        "outputId": "32c31a79-ef89-4e80-9e76-47540f839cb6"
      },
      "source": [
        "for i in range(len(my_list)):\n",
        "  print(my_list[i])"
      ],
      "execution_count": null,
      "outputs": [
        {
          "output_type": "stream",
          "text": [
            "1\n",
            "2\n",
            "3\n",
            "4\n"
          ],
          "name": "stdout"
        }
      ]
    },
    {
      "cell_type": "code",
      "source": [
        "n = 4\n",
        "for i in range(0, n):\n",
        "    print(i)"
      ],
      "metadata": {
        "colab": {
          "base_uri": "https://localhost:8080/"
        },
        "id": "b2t_wMBzjmU6",
        "outputId": "8d0e2c4b-a702-4f60-8c66-4ba04d8aabad"
      },
      "execution_count": 23,
      "outputs": [
        {
          "output_type": "stream",
          "name": "stdout",
          "text": [
            "0\n",
            "1\n",
            "2\n",
            "3\n"
          ]
        }
      ]
    },
    {
      "cell_type": "markdown",
      "metadata": {
        "id": "XO6qqppikZvm"
      },
      "source": [
        "If the goal is simply to iterate over a list, we can do so directly as follows"
      ]
    },
    {
      "cell_type": "code",
      "metadata": {
        "id": "PjFKzN6zkeJ7",
        "colab": {
          "base_uri": "https://localhost:8080/"
        },
        "outputId": "d611c1f5-9087-48d2-df12-c8c736abbd3a"
      },
      "source": [
        "for element in my_list:\n",
        "  print(element)"
      ],
      "execution_count": 24,
      "outputs": [
        {
          "output_type": "stream",
          "name": "stdout",
          "text": [
            "1\n",
            "2\n",
            "3\n",
            "4\n",
            "4\n",
            "5\n"
          ]
        }
      ]
    },
    {
      "cell_type": "markdown",
      "metadata": {
        "id": "Cck4zwYrex02"
      },
      "source": [
        "## Functions"
      ]
    },
    {
      "cell_type": "markdown",
      "metadata": {
        "id": "n1PbIf_ohxFO"
      },
      "source": [
        "To improve code readability, it is common to separate the code into different blocks, responsible for performing precise actions: functions. A function takes some inputs and process them to return some outputs."
      ]
    },
    {
      "cell_type": "code",
      "metadata": {
        "id": "cImA09gOhRmx",
        "colab": {
          "base_uri": "https://localhost:8080/"
        },
        "outputId": "2154653f-3bd5-4361-f5b3-1f1939894cd9"
      },
      "source": [
        "def square(x):\n",
        "  return x ** 2\n",
        "\n",
        "def multiply(a, b):\n",
        "  return a * b\n",
        "\n",
        "# Functions can be composed.\n",
        "square(multiply(5, 2))"
      ],
      "execution_count": 26,
      "outputs": [
        {
          "output_type": "execute_result",
          "data": {
            "text/plain": [
              "100"
            ]
          },
          "metadata": {},
          "execution_count": 26
        }
      ]
    },
    {
      "cell_type": "markdown",
      "metadata": {
        "id": "75-5SOk9iYSt"
      },
      "source": [
        "To improve code readability, it is sometimes useful to explicitly name the arguments"
      ]
    },
    {
      "cell_type": "code",
      "metadata": {
        "id": "wkIUuZHhidI0",
        "colab": {
          "base_uri": "https://localhost:8080/"
        },
        "outputId": "f53fdb51-1225-435f-b9b5-cf40d99a24ab"
      },
      "source": [
        "square(multiply(a=3, b=2))"
      ],
      "execution_count": 27,
      "outputs": [
        {
          "output_type": "execute_result",
          "data": {
            "text/plain": [
              "36"
            ]
          },
          "metadata": {},
          "execution_count": 27
        }
      ]
    },
    {
      "cell_type": "markdown",
      "metadata": {
        "id": "LkpwbQEVMys2"
      },
      "source": [
        "## Exercises"
      ]
    },
    {
      "cell_type": "markdown",
      "source": [
        "###Concept of Vector\n",
        "\n",
        "What is a Vector?\n",
        "\n",
        "In mathematics and physics, a vector is a quantity that has both magnitude (or length) and direction. Think of it as an arrow pointing from one point to another in space.\n",
        "\n",
        "In the context of machine learning and data science, a vector is typically understood as an ordered sequence of numbers. These numbers represent the \"features\" or attributes of something.\n",
        "\n",
        "Vectors in Machine Learning\n",
        "\n",
        "Vectors are fundamental building blocks in machine learning for several reasons:\n",
        "\n",
        "    Representing Data: Almost all data in machine learning is ultimately represented as vectors.\n",
        "        Images: An image can be flattened into a long vector where each number represents the pixel intensity.\n",
        "        Text: Text can be converted into vectors using techniques like \"bag-of-words\" or word embeddings, where each number represents the frequency of a word or a learned representation of a word.\n",
        "        Numerical Data: A row in a dataset (e.g., a person's height, weight, age) is naturally represented as a vector.\n",
        "\n",
        "    Mathematical Operations: Machine learning algorithms heavily rely on vector operations (like addition, subtraction, dot product) to perform calculations, measure distances, and transform data.\n",
        "\n",
        "    Model Parameters: The parameters (weights and biases) of many machine learning models, such as linear regression or neural networks, are also represented as vectors or matrices (which are collections of vectors).\n",
        "\n",
        "Example:\n",
        "\n",
        "Imagine you're building a model to predict house prices. For a single house, you might have the following features:\n",
        "\n",
        "    Area (in square feet)\n",
        "    Number of bedrooms\n",
        "    Distance to the nearest school (in miles)\n",
        "\n",
        "This house can be represented as a vector, for example: [1500, 3, 0.8]. Each number in the vector corresponds to a specific feature.\n",
        "\n",
        "Implementation in Python\n",
        "\n",
        "In Python, vectors can be implemented using several data structures. The most common and efficient ways for numerical operations are:\n",
        "\n",
        "    Python Lists: Simple and flexible, but not optimized for numerical computations.\n",
        "    NumPy Arrays: The standard and most efficient way to handle numerical vectors (and matrices) in Python due to its optimized operations.\n",
        "\n",
        "\n"
      ],
      "metadata": {
        "id": "h1nl0Gbgm9TW"
      }
    },
    {
      "cell_type": "markdown",
      "metadata": {
        "id": "ASpVhol9ZXI0"
      },
      "source": [
        "**Exercise 1.** Using a conditional, write the [relu](https://en.wikipedia.org/wiki/Rectifier_(neural_networks)) function defined as follows\n",
        "\n",
        "$\\text{relu}(x) = \\left\\{\n",
        "   \\begin{array}{rl}\n",
        "     x, & \\text{if }  x \\ge 0 \\\\\n",
        "     0, & \\text{otherwise }.\n",
        "   \\end{array}\\right.$\n",
        "\n",
        "\n",
        "![image.png](data:image/png;base64,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)"
      ]
    },
    {
      "cell_type": "code",
      "metadata": {
        "id": "jlgyu65SaUvr"
      },
      "source": [
        "def relu(x):\n",
        "  # Write your function here\n",
        "  if x >= 0:\n",
        "    return x\n",
        "  else:\n",
        "    return 0\n",
        "\n",
        "print(relu(-3))\n",
        "print(relu(5))\n",
        "print(relu(0))"
      ],
      "execution_count": null,
      "outputs": []
    },
    {
      "cell_type": "markdown",
      "metadata": {
        "id": "Y3so0ceoakIw"
      },
      "source": [
        "**Exercise 2.** Using a foor loop, write a function that computes the [Euclidean norm](https://en.wikipedia.org/wiki/Norm_(mathematics)#Euclidean_norm) of a vector, represented as a list."
      ]
    },
    {
      "cell_type": "code",
      "metadata": {
        "id": "-IH-BD41bI1u",
        "colab": {
          "base_uri": "https://localhost:8080/"
        },
        "outputId": "8f1ac3e0-5bda-40cd-ce97-16caa9406582"
      },
      "source": [
        "def euclidean_norm(vector):\n",
        "  # Write your function here\n",
        "  sum_of_squares = 0\n",
        "  for element in vector:\n",
        "    sum_of_squares += element ** 2\n",
        "  return sum_of_squares ** 0.5\n",
        "\n",
        "import numpy as np\n",
        "my_vector = [0.5, -1.2, 3.3, 4.5]\n",
        "# The result should be roughly 5.729746940310715\n",
        "euclidean_norm(my_vector)"
      ],
      "execution_count": 28,
      "outputs": [
        {
          "output_type": "execute_result",
          "data": {
            "text/plain": [
              "5.729746940310715"
            ]
          },
          "metadata": {},
          "execution_count": 28
        }
      ]
    },
    {
      "cell_type": "markdown",
      "metadata": {
        "id": "SEXIh_e9cW3S"
      },
      "source": [
        "**Exercise 3.** Using a for loop and a conditional, write a function that returns the maximum value in a vector."
      ]
    },
    {
      "cell_type": "code",
      "metadata": {
        "id": "zd9ntMq0cb2e",
        "colab": {
          "base_uri": "https://localhost:8080/"
        },
        "outputId": "a05e143b-d651-4506-a545-54098708be10"
      },
      "source": [
        "def vector_maximum(vector):\n",
        "  # Write your function here\n",
        "  if not vector:  # Handle empty list case\n",
        "    return None # Or raise an error, depending on desired behavior\n",
        "  maximum = vector[0]\n",
        "  for element in vector:\n",
        "    if element > maximum:\n",
        "      maximum = element\n",
        "  return maximum\n",
        "\n",
        "my_vector = [0.5, -1.2, 3.3, 4.5]\n",
        "print(vector_maximum(my_vector))\n",
        "\n",
        "my_vector2 = [-10, -5, -1, -20]\n",
        "print(vector_maximum(my_vector2))\n",
        "\n",
        "my_empty_vector = []\n",
        "print(vector_maximum(my_empty_vector))"
      ],
      "execution_count": 29,
      "outputs": [
        {
          "output_type": "stream",
          "name": "stdout",
          "text": [
            "4.5\n",
            "-1\n",
            "None\n"
          ]
        }
      ]
    },
    {
      "cell_type": "markdown",
      "metadata": {
        "id": "qPAZA4OMc6sT"
      },
      "source": [
        "\n",
        "\n",
        "**Bonus exercise.** if time permits, write a function that sorts a list in ascending order (from smaller to bigger) using the [bubble sort](https://en.wikipedia.org/wiki/Bubble_sort) algorithm.\n",
        "\n",
        "## Buble Sort\n",
        "\n",
        "![image.png](data:image/png;base64,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)"
      ]
    },
    {
      "cell_type": "code",
      "metadata": {
        "id": "sBokdJO4dGyf",
        "colab": {
          "base_uri": "https://localhost:8080/"
        },
        "outputId": "a69f0094-b680-4d2b-d242-f7b3e4277a3e"
      },
      "source": [
        "def bubble_sort(my_list):\n",
        "  n = len(my_list)\n",
        "  for i in range(n):\n",
        "    # Last i elements are already in place\n",
        "    for j in range(0, n - i - 1):\n",
        "      # traverse the array from 0 to n-i-1\n",
        "      # Swap if the element found is greater\n",
        "      # than the next element\n",
        "      if my_list[j] > my_list[j + 1]:\n",
        "        my_list[j], my_list[j + 1] = my_list[j + 1], my_list[j]\n",
        "  return my_list\n",
        "\n",
        "my_list = [1, -3, 3, 2]\n",
        "# Should return [-3, 1, 2, 3]\n",
        "bubble_sort(my_list)"
      ],
      "execution_count": 30,
      "outputs": [
        {
          "output_type": "execute_result",
          "data": {
            "text/plain": [
              "[-3, 1, 2, 3]"
            ]
          },
          "metadata": {},
          "execution_count": 30
        }
      ]
    },
    {
      "cell_type": "markdown",
      "metadata": {
        "id": "jDxjvtEEM1vg"
      },
      "source": [
        "## Going further"
      ]
    },
    {
      "cell_type": "markdown",
      "metadata": {
        "id": "wRkmvzf-PdEp"
      },
      "source": [
        "Clearly, it is impossible to cover all the language features in this short introduction. To go further, we recommend the following resources:"
      ]
    },
    {
      "cell_type": "markdown",
      "metadata": {
        "id": "n8nbPoWclRlH"
      },
      "source": [
        "\n",
        "\n",
        "*   List of Python [tutorials](https://wiki.python.org/moin/BeginnersGuide/Programmers)\n",
        "* Four-hour [course](https://www.youtube.com/watch?v=rfscVS0vtbw) on Youtube\n",
        "\n"
      ]
    },
    {
      "cell_type": "markdown",
      "metadata": {
        "id": "6X4WJo3iM6m9"
      },
      "source": [
        "# NumPy"
      ]
    },
    {
      "cell_type": "markdown",
      "metadata": {
        "id": "_H3bNbLloXCY"
      },
      "source": [
        "NumPy is a popular library for storing arrays of numbers and performing computations on them. Not only this enables to write often more succint code, this also makes the code faster, since most NumPy routines are implemented in C for speed."
      ]
    },
    {
      "cell_type": "markdown",
      "metadata": {
        "id": "M7tI3XLhqwSX"
      },
      "source": [
        "To use NumPy in your program, you need to import it as follows"
      ]
    },
    {
      "cell_type": "code",
      "metadata": {
        "id": "phSPPyfyq2gX"
      },
      "source": [
        "import numpy as np"
      ],
      "execution_count": null,
      "outputs": []
    },
    {
      "cell_type": "markdown",
      "metadata": {
        "id": "9secCfFLNHEE"
      },
      "source": [
        "## Array creation\n",
        "\n"
      ]
    },
    {
      "cell_type": "markdown",
      "metadata": {
        "id": "LSS2wEnkq97n"
      },
      "source": [
        "NumPy arrays can be created from Python lists"
      ]
    },
    {
      "cell_type": "code",
      "metadata": {
        "id": "Hfeg286yrLvJ",
        "colab": {
          "base_uri": "https://localhost:8080/",
          "height": 34
        },
        "outputId": "f498bafc-0373-4258-f479-e27716b193c1"
      },
      "source": [
        "my_array = np.array([1, 2, 3])\n",
        "my_array"
      ],
      "execution_count": null,
      "outputs": [
        {
          "output_type": "execute_result",
          "data": {
            "text/plain": [
              "array([1, 2, 3])"
            ]
          },
          "metadata": {
            "tags": []
          },
          "execution_count": 27
        }
      ]
    },
    {
      "cell_type": "markdown",
      "metadata": {
        "id": "Sy2EvrxFriAG"
      },
      "source": [
        "NumPy supports array of arbitrary dimension. For example, we can create two-dimensional arrays (e.g. to store a matrix) as follows"
      ]
    },
    {
      "cell_type": "code",
      "metadata": {
        "id": "wM-GYVMsrzNs",
        "colab": {
          "base_uri": "https://localhost:8080/",
          "height": 51
        },
        "outputId": "3d524d20-cf2c-4d3c-ba08-4552be3a46d8"
      },
      "source": [
        "my_2d_array = np.array([[1, 2, 3], [4, 5, 6]])\n",
        "my_2d_array"
      ],
      "execution_count": null,
      "outputs": [
        {
          "output_type": "execute_result",
          "data": {
            "text/plain": [
              "array([[1, 2, 3],\n",
              "       [4, 5, 6]])"
            ]
          },
          "metadata": {
            "tags": []
          },
          "execution_count": 28
        }
      ]
    },
    {
      "cell_type": "markdown",
      "metadata": {
        "id": "-kZMzYsAsVAc"
      },
      "source": [
        "We can access individual elements of a 2d-array using two indices"
      ]
    },
    {
      "cell_type": "code",
      "metadata": {
        "id": "4q8X86BbscPd",
        "colab": {
          "base_uri": "https://localhost:8080/",
          "height": 34
        },
        "outputId": "3cefe32a-690a-4744-fad9-9c3edd763cd6"
      },
      "source": [
        "my_2d_array[1, 2]"
      ],
      "execution_count": null,
      "outputs": [
        {
          "output_type": "execute_result",
          "data": {
            "text/plain": [
              "6"
            ]
          },
          "metadata": {
            "tags": []
          },
          "execution_count": 30
        }
      ]
    },
    {
      "cell_type": "markdown",
      "metadata": {
        "id": "OfVIKyxkTh0p"
      },
      "source": [
        "We can also access rows"
      ]
    },
    {
      "cell_type": "code",
      "metadata": {
        "id": "CrKnDAtyTlYe",
        "colab": {
          "base_uri": "https://localhost:8080/",
          "height": 34
        },
        "outputId": "14060c28-8ee7-48f5-f0ca-bdcff12cc421"
      },
      "source": [
        "my_2d_array[1]"
      ],
      "execution_count": null,
      "outputs": [
        {
          "output_type": "execute_result",
          "data": {
            "text/plain": [
              "array([4, 5, 6])"
            ]
          },
          "metadata": {
            "tags": []
          },
          "execution_count": 66
        }
      ]
    },
    {
      "cell_type": "markdown",
      "metadata": {
        "id": "hskLBCp9ToCG"
      },
      "source": [
        "and columns"
      ]
    },
    {
      "cell_type": "code",
      "metadata": {
        "id": "MOOFsLHhTozX",
        "colab": {
          "base_uri": "https://localhost:8080/",
          "height": 34
        },
        "outputId": "8802a59a-0812-40a4-f930-ab2a3302bf46"
      },
      "source": [
        "my_2d_array[:, 2]"
      ],
      "execution_count": null,
      "outputs": [
        {
          "output_type": "execute_result",
          "data": {
            "text/plain": [
              "array([3, 6])"
            ]
          },
          "metadata": {
            "tags": []
          },
          "execution_count": 67
        }
      ]
    },
    {
      "cell_type": "markdown",
      "metadata": {
        "id": "keWK_5PHr9Q2"
      },
      "source": [
        "Arrays have a `shape` attribute"
      ]
    },
    {
      "cell_type": "code",
      "metadata": {
        "id": "5QIo7l1Yr8m7",
        "colab": {
          "base_uri": "https://localhost:8080/",
          "height": 51
        },
        "outputId": "357d4218-541d-4c7f-8bcf-b3f4523b1fa3"
      },
      "source": [
        "print(my_array.shape)\n",
        "print(my_2d_array.shape)"
      ],
      "execution_count": null,
      "outputs": [
        {
          "output_type": "stream",
          "text": [
            "(3,)\n",
            "(2, 3)\n"
          ],
          "name": "stdout"
        }
      ]
    },
    {
      "cell_type": "markdown",
      "metadata": {
        "id": "LmX0EDWVsoDY"
      },
      "source": [
        "Contrary to Python lists, NumPy arrays must have a type and all elements of the array must have the same type."
      ]
    },
    {
      "cell_type": "code",
      "metadata": {
        "id": "FZjOowkls57o",
        "colab": {
          "base_uri": "https://localhost:8080/",
          "height": 34
        },
        "outputId": "abb3edab-a903-40c8-f88a-1125fc6d4dbf"
      },
      "source": [
        "my_array.dtype"
      ],
      "execution_count": null,
      "outputs": [
        {
          "output_type": "execute_result",
          "data": {
            "text/plain": [
              "dtype('int64')"
            ]
          },
          "metadata": {
            "tags": []
          },
          "execution_count": 31
        }
      ]
    },
    {
      "cell_type": "markdown",
      "metadata": {
        "id": "i5AvLdf7tGnZ"
      },
      "source": [
        "The main types are `int32` (32-bit integers), `int64` (64-bit integers), `float32` (32-bit real values) and `float64` (64-bit real values)."
      ]
    },
    {
      "cell_type": "markdown",
      "metadata": {
        "id": "w8ym2qZCt9Nm"
      },
      "source": [
        "The `dtype` can be specified when creating the array"
      ]
    },
    {
      "cell_type": "code",
      "metadata": {
        "id": "gXpM_FqruCVv",
        "colab": {
          "base_uri": "https://localhost:8080/",
          "height": 34
        },
        "outputId": "20d8b981-56ed-4458-d9d8-2f9fb5fb2b58"
      },
      "source": [
        "my_array = np.array([1, 2, 3], dtype=np.float64)\n",
        "my_array.dtype"
      ],
      "execution_count": null,
      "outputs": [
        {
          "output_type": "execute_result",
          "data": {
            "text/plain": [
              "dtype('float64')"
            ]
          },
          "metadata": {
            "tags": []
          },
          "execution_count": 32
        }
      ]
    },
    {
      "cell_type": "markdown",
      "metadata": {
        "id": "WueaRIONuTdS"
      },
      "source": [
        "We can create arrays of all zeros using"
      ]
    },
    {
      "cell_type": "code",
      "metadata": {
        "id": "jbD8N1UauK8r",
        "colab": {
          "base_uri": "https://localhost:8080/",
          "height": 51
        },
        "outputId": "4a352f81-f0e8-4bc1-a651-760436c7d213"
      },
      "source": [
        "zero_array = np.zeros((2, 3))\n",
        "zero_array"
      ],
      "execution_count": null,
      "outputs": [
        {
          "output_type": "execute_result",
          "data": {
            "text/plain": [
              "array([[0., 0., 0.],\n",
              "       [0., 0., 0.]])"
            ]
          },
          "metadata": {
            "tags": []
          },
          "execution_count": 33
        }
      ]
    },
    {
      "cell_type": "markdown",
      "metadata": {
        "id": "vn5go6qoudo4"
      },
      "source": [
        "and similarly for all ones using `ones` instead of `zeros`."
      ]
    },
    {
      "cell_type": "markdown",
      "metadata": {
        "id": "1kCRlhLJuvZ6"
      },
      "source": [
        "We can create a range of values using"
      ]
    },
    {
      "cell_type": "code",
      "metadata": {
        "id": "EcQXDeEmuxpO",
        "colab": {
          "base_uri": "https://localhost:8080/",
          "height": 34
        },
        "outputId": "5a6fac79-26e3-4012-d5f4-82844372dc58"
      },
      "source": [
        "np.arange(5)"
      ],
      "execution_count": null,
      "outputs": [
        {
          "output_type": "execute_result",
          "data": {
            "text/plain": [
              "array([0, 1, 2, 3, 4])"
            ]
          },
          "metadata": {
            "tags": []
          },
          "execution_count": 34
        }
      ]
    },
    {
      "cell_type": "markdown",
      "metadata": {
        "id": "ZvJECk6Iu3uF"
      },
      "source": [
        "or specifying the starting point"
      ]
    },
    {
      "cell_type": "code",
      "metadata": {
        "id": "Pk3UzL3du_f8",
        "colab": {
          "base_uri": "https://localhost:8080/",
          "height": 34
        },
        "outputId": "1fd3f3fa-63ba-4a26-9274-011574bebbd2"
      },
      "source": [
        "np.arange(3, 5)"
      ],
      "execution_count": null,
      "outputs": [
        {
          "output_type": "execute_result",
          "data": {
            "text/plain": [
              "array([3, 4])"
            ]
          },
          "metadata": {
            "tags": []
          },
          "execution_count": 35
        }
      ]
    },
    {
      "cell_type": "markdown",
      "metadata": {
        "id": "f1JtqFSivJKG"
      },
      "source": [
        "Another useful routine is `linspace` for creating linearly spaced values in an interval. For instance, to create 10 values in `[0, 1]`, we can use"
      ]
    },
    {
      "cell_type": "code",
      "metadata": {
        "id": "udHHjGAHvOQM",
        "colab": {
          "base_uri": "https://localhost:8080/",
          "height": 51
        },
        "outputId": "473cec27-ac56-4dc9-984a-c1e340255a51"
      },
      "source": [
        "np.linspace(0, 1, 10)"
      ],
      "execution_count": null,
      "outputs": [
        {
          "output_type": "execute_result",
          "data": {
            "text/plain": [
              "array([0.        , 0.11111111, 0.22222222, 0.33333333, 0.44444444,\n",
              "       0.55555556, 0.66666667, 0.77777778, 0.88888889, 1.        ])"
            ]
          },
          "metadata": {
            "tags": []
          },
          "execution_count": 36
        }
      ]
    },
    {
      "cell_type": "markdown",
      "metadata": {
        "id": "WbcxAKobvgUT"
      },
      "source": [
        "Another important operation is `reshape`, for changing the shape of an array"
      ]
    },
    {
      "cell_type": "code",
      "metadata": {
        "id": "4FPzTuDlvlLO",
        "colab": {
          "base_uri": "https://localhost:8080/",
          "height": 68
        },
        "outputId": "338648ec-11e3-436f-d0e4-6745f9cb30d3"
      },
      "source": [
        "my_array = np.array([1, 2, 3, 4, 5, 6])\n",
        "my_array.reshape(3, 2)"
      ],
      "execution_count": null,
      "outputs": [
        {
          "output_type": "execute_result",
          "data": {
            "text/plain": [
              "array([[1, 2],\n",
              "       [3, 4],\n",
              "       [5, 6]])"
            ]
          },
          "metadata": {
            "tags": []
          },
          "execution_count": 37
        }
      ]
    },
    {
      "cell_type": "markdown",
      "metadata": {
        "id": "G-QR80_g3N9Y"
      },
      "source": [
        "Play with these operations and make sure you understand them well."
      ]
    },
    {
      "cell_type": "markdown",
      "metadata": {
        "id": "f9B0iCBlmfeY"
      },
      "source": [
        "## Basic operations"
      ]
    },
    {
      "cell_type": "markdown",
      "metadata": {
        "id": "elQGgkqDxKLV"
      },
      "source": [
        "In NumPy, we express computations directly over arrays. This makes the code much more succint."
      ]
    },
    {
      "cell_type": "markdown",
      "metadata": {
        "id": "hkCU1T8ixghX"
      },
      "source": [
        "Arithmetic operations can be performed directly over arrays. For instance, assuming two arrays have a compatible shape, we can add them as follows"
      ]
    },
    {
      "cell_type": "code",
      "metadata": {
        "id": "4AoiRq42x5mI",
        "colab": {
          "base_uri": "https://localhost:8080/",
          "height": 34
        },
        "outputId": "d9706493-95f8-43d5-af90-21a53c13cac5"
      },
      "source": [
        "array_a = np.array([1, 2, 3])\n",
        "array_b = np.array([4, 5, 6])\n",
        "array_a + array_b"
      ],
      "execution_count": null,
      "outputs": [
        {
          "output_type": "execute_result",
          "data": {
            "text/plain": [
              "array([5, 7, 9])"
            ]
          },
          "metadata": {
            "tags": []
          },
          "execution_count": 38
        }
      ]
    },
    {
      "cell_type": "markdown",
      "metadata": {
        "id": "SyPqME2EyD4x"
      },
      "source": [
        "Compare this with the equivalent computation using a for loop"
      ]
    },
    {
      "cell_type": "code",
      "metadata": {
        "id": "HxRFA_U2yfI-",
        "colab": {
          "base_uri": "https://localhost:8080/",
          "height": 34
        },
        "outputId": "cbd77fed-8b67-4119-aeea-7a71d92b63b6"
      },
      "source": [
        "array_out = np.zeros_like(array_a)\n",
        "for i in range(len(array_a)):\n",
        "  array_out[i] = array_a[i] + array_b[i]\n",
        "array_out"
      ],
      "execution_count": null,
      "outputs": [
        {
          "output_type": "execute_result",
          "data": {
            "text/plain": [
              "array([5, 7, 9])"
            ]
          },
          "metadata": {
            "tags": []
          },
          "execution_count": 65
        }
      ]
    },
    {
      "cell_type": "markdown",
      "metadata": {
        "id": "i2a-apX-zlPN"
      },
      "source": [
        "Not only this code is more verbose, it will also run much more slowly."
      ]
    },
    {
      "cell_type": "markdown",
      "metadata": {
        "id": "Qdn8MwpR0wX_"
      },
      "source": [
        "In NumPy, functions that operates on arrays in an element-wise fashion are called [universal functions](https://numpy.org/doc/stable/reference/ufuncs.html). For instance, this is the case of `np.sin`"
      ]
    },
    {
      "cell_type": "code",
      "metadata": {
        "id": "JoanjiMu1BH5",
        "colab": {
          "base_uri": "https://localhost:8080/",
          "height": 34
        },
        "outputId": "e6b8be44-7e66-4a3f-eb57-c767c7f8b2f3"
      },
      "source": [
        "np.sin(array_a)"
      ],
      "execution_count": null,
      "outputs": [
        {
          "output_type": "execute_result",
          "data": {
            "text/plain": [
              "array([0.84147098, 0.90929743, 0.14112001])"
            ]
          },
          "metadata": {
            "tags": []
          },
          "execution_count": 41
        }
      ]
    },
    {
      "cell_type": "markdown",
      "metadata": {
        "id": "jHljrPXg5h8W"
      },
      "source": [
        "Vector inner product can be performed using `np.dot`"
      ]
    },
    {
      "cell_type": "code",
      "metadata": {
        "id": "TphR8oIx5ob9",
        "colab": {
          "base_uri": "https://localhost:8080/",
          "height": 34
        },
        "outputId": "a84a8966-6b99-4a48-b422-caea4dd0ffc6"
      },
      "source": [
        "np.dot(array_a, array_b)"
      ],
      "execution_count": null,
      "outputs": [
        {
          "output_type": "execute_result",
          "data": {
            "text/plain": [
              "32"
            ]
          },
          "metadata": {
            "tags": []
          },
          "execution_count": 44
        }
      ]
    },
    {
      "cell_type": "markdown",
      "metadata": {
        "id": "lHInOiSW50OR"
      },
      "source": [
        "When the two arguments to `np.dot` are both 2d arrays, `np.dot` becomes matrix multiplication"
      ]
    },
    {
      "cell_type": "code",
      "metadata": {
        "id": "QRbpbhPP6Up0",
        "colab": {
          "base_uri": "https://localhost:8080/",
          "height": 102
        },
        "outputId": "d020a4d4-2532-495f-fd28-766fc92b3318"
      },
      "source": [
        "array_A = np.random.rand(5, 3)\n",
        "array_B = np.random.randn(3, 4)\n",
        "np.dot(array_A, array_B)"
      ],
      "execution_count": null,
      "outputs": [
        {
          "output_type": "execute_result",
          "data": {
            "text/plain": [
              "array([[-0.36045702, -0.81071381, -0.19270751,  1.68942764],\n",
              "       [-1.37444349, -3.05245084, -0.52466652, -0.02343348],\n",
              "       [-1.43277431, -2.95828896, -0.4035378 , -0.50852563],\n",
              "       [-0.8569399 , -0.99003545,  0.17051909,  1.02933425],\n",
              "       [-0.47198448, -1.52564526, -0.41890404, -1.29330023]])"
            ]
          },
          "metadata": {
            "tags": []
          },
          "execution_count": 45
        }
      ]
    },
    {
      "cell_type": "markdown",
      "metadata": {
        "id": "odVawD9m6gwv"
      },
      "source": [
        "Matrix transpose can be done using `.transpose()` or `.T` for short"
      ]
    },
    {
      "cell_type": "code",
      "metadata": {
        "id": "gvPe_JAO6mvF",
        "colab": {
          "base_uri": "https://localhost:8080/",
          "height": 68
        },
        "outputId": "4952000d-c255-4cd0-8b12-51bcb59ba53b"
      },
      "source": [
        "array_A.T"
      ],
      "execution_count": null,
      "outputs": [
        {
          "output_type": "execute_result",
          "data": {
            "text/plain": [
              "array([[0.83246658, 0.86545167, 0.62386601, 0.473339  , 0.06991272],\n",
              "       [0.02185012, 0.93435538, 0.93170156, 0.0036374 , 0.7230155 ],\n",
              "       [0.08128956, 0.83778882, 0.96709345, 0.66291745, 0.2734715 ]])"
            ]
          },
          "metadata": {
            "tags": []
          },
          "execution_count": 46
        }
      ]
    },
    {
      "cell_type": "markdown",
      "metadata": {
        "id": "JlWt3oFnE_E-"
      },
      "source": [
        "## Slicing and masking"
      ]
    },
    {
      "cell_type": "markdown",
      "metadata": {
        "id": "e4aKKe7bFA65"
      },
      "source": [
        "Like Python lists, NumPy arrays support slicing"
      ]
    },
    {
      "cell_type": "code",
      "metadata": {
        "id": "0kPhv2xcF1TP",
        "colab": {
          "base_uri": "https://localhost:8080/",
          "height": 34
        },
        "outputId": "a7315cac-0495-44da-e497-63aa677b8d47"
      },
      "source": [
        "np.arange(10)[5:]"
      ],
      "execution_count": null,
      "outputs": [
        {
          "output_type": "execute_result",
          "data": {
            "text/plain": [
              "array([5, 6, 7, 8, 9])"
            ]
          },
          "metadata": {
            "tags": []
          },
          "execution_count": 61
        }
      ]
    },
    {
      "cell_type": "markdown",
      "metadata": {
        "id": "ITu2Wy4-GB2G"
      },
      "source": [
        "We can also select only certain elements from the array"
      ]
    },
    {
      "cell_type": "code",
      "metadata": {
        "id": "8tlZzTB6GEyw",
        "colab": {
          "base_uri": "https://localhost:8080/",
          "height": 34
        },
        "outputId": "a2918cd3-f33b-48de-cd18-a3a8b1fb2fab"
      },
      "source": [
        "x = np.arange(10)\n",
        "mask = x >= 5\n",
        "x[mask]"
      ],
      "execution_count": null,
      "outputs": [
        {
          "output_type": "execute_result",
          "data": {
            "text/plain": [
              "array([5, 6, 7, 8, 9])"
            ]
          },
          "metadata": {
            "tags": []
          },
          "execution_count": 62
        }
      ]
    },
    {
      "cell_type": "markdown",
      "metadata": {
        "id": "NlGForCimjBL"
      },
      "source": [
        "## Exercises"
      ]
    },
    {
      "cell_type": "markdown",
      "metadata": {
        "id": "Ur1UlSFPTu6O"
      },
      "source": [
        "**Exercise 1.** Create a 3d array of shape (2, 2, 2), containing 8 values. Access individual elements and slices."
      ]
    },
    {
      "cell_type": "code",
      "metadata": {
        "id": "v1ed4-vLUWXQ"
      },
      "source": [],
      "execution_count": null,
      "outputs": []
    },
    {
      "cell_type": "markdown",
      "metadata": {
        "id": "s_ksfCDJzyxI"
      },
      "source": [
        "**Exercise 2.** Rewrite the relu function (see Python section) using [np.maximum](https://numpy.org/doc/stable/reference/generated/numpy.maximum.html). Check that it works on both a single value and on an array of values."
      ]
    },
    {
      "cell_type": "code",
      "metadata": {
        "id": "QtSTxH5Dz6f8"
      },
      "source": [
        "def relu_numpy(x):\n",
        "  return\n",
        "\n",
        "relu_numpy(np.array([1, -3, 2.5]))"
      ],
      "execution_count": null,
      "outputs": []
    },
    {
      "cell_type": "markdown",
      "metadata": {
        "id": "wggUjpyRz7fb"
      },
      "source": [
        "**Exercise 3.** Rewrite the Euclidean norm of a vector (1d array) using NumPy (without for loop)"
      ]
    },
    {
      "cell_type": "code",
      "metadata": {
        "id": "p5BLcHOD0Bhy"
      },
      "source": [
        "def euclidean_norm_numpy(x):\n",
        "  return\n",
        "\n",
        "my_vector = np.array([0.5, -1.2, 3.3, 4.5])\n",
        "euclidean_norm_numpy(my_vector)"
      ],
      "execution_count": null,
      "outputs": []
    },
    {
      "cell_type": "markdown",
      "metadata": {
        "id": "01IteVJ60Il2"
      },
      "source": [
        "**Exercise 4.** Write a function that computes the Euclidean norms of a matrix (2d array) in a row-wise fashion. Hint: use the `axis` argument of [np.sum](https://numpy.org/doc/stable/reference/generated/numpy.sum.html)."
      ]
    },
    {
      "cell_type": "code",
      "metadata": {
        "id": "at5lWRNM0SVG"
      },
      "source": [
        "def euclidean_norm_2d(X):\n",
        "  return\n",
        "\n",
        "my_matrix = np.array([[0.5, -1.2, 4.5],\n",
        "                      [-3.2, 1.9, 2.7]])\n",
        "# Should return an array of size 2.\n",
        "euclidean_norm_2d(my_matrix)"
      ],
      "execution_count": null,
      "outputs": []
    },
    {
      "cell_type": "markdown",
      "metadata": {
        "id": "yd1ZoByo436x"
      },
      "source": [
        "**Exercise 5.** Compute the mean value of the features in the [iris dataset](https://scikit-learn.org/stable/modules/generated/sklearn.datasets.load_iris.html). Hint: use the `axis` argument on [np.mean](https://numpy.org/doc/stable/reference/generated/numpy.mean.html)."
      ]
    },
    {
      "cell_type": "code",
      "metadata": {
        "id": "fYFVobkP5JK6",
        "colab": {
          "base_uri": "https://localhost:8080/",
          "height": 34
        },
        "outputId": "91504ff7-ad59-4eb7-f940-cb2e068e1b6f"
      },
      "source": [
        "from sklearn.datasets import load_iris\n",
        "X, y = load_iris(return_X_y=True)\n",
        "\n",
        "# Result should be an array of size 4."
      ],
      "execution_count": null,
      "outputs": [
        {
          "output_type": "execute_result",
          "data": {
            "text/plain": [
              "(150, 4)"
            ]
          },
          "metadata": {
            "tags": []
          },
          "execution_count": 43
        }
      ]
    },
    {
      "cell_type": "markdown",
      "metadata": {
        "id": "1FDs9zX6mpoX"
      },
      "source": [
        "## Going further"
      ]
    },
    {
      "cell_type": "markdown",
      "metadata": {
        "id": "hFP61Iztmr9Q"
      },
      "source": [
        "* NumPy [reference](https://numpy.org/doc/stable/reference/)\n",
        "* SciPy [lectures](https://scipy-lectures.org/)\n",
        "*   One-hour [tutorial](https://www.youtube.com/watch?v=QUT1VHiLmmI) on Youtube\n",
        "\n"
      ]
    },
    {
      "cell_type": "markdown",
      "metadata": {
        "id": "7Jt6T3kJ8I2T"
      },
      "source": [
        "# Matplotlib"
      ]
    },
    {
      "cell_type": "markdown",
      "metadata": {
        "id": "kQX8TiEOALkQ"
      },
      "source": [
        "## Basic plots"
      ]
    },
    {
      "cell_type": "markdown",
      "metadata": {
        "id": "REYwc9Va8UTg"
      },
      "source": [
        "Matplotlib is a plotting library for Python."
      ]
    },
    {
      "cell_type": "markdown",
      "metadata": {
        "id": "Eom7t-m6-Uzb"
      },
      "source": [
        "We start with a rudimentary plotting example."
      ]
    },
    {
      "cell_type": "code",
      "metadata": {
        "id": "g21e5Ncm927z",
        "colab": {
          "base_uri": "https://localhost:8080/",
          "height": 295
        },
        "outputId": "0bffba14-376e-4274-a33a-04cc8ce6cd64"
      },
      "source": [
        "from matplotlib import pyplot as plt\n",
        "\n",
        "x_values = np.linspace(-3, 3, 100)\n",
        "\n",
        "plt.figure()\n",
        "plt.plot(x_values, np.sin(x_values), label=\"Sinusoid\")\n",
        "plt.xlabel(\"x\")\n",
        "plt.ylabel(\"sin(x)\")\n",
        "plt.title(\"Matplotlib example\")\n",
        "plt.legend(loc=\"upper left\")\n",
        "plt.show()"
      ],
      "execution_count": null,
      "outputs": [
        {
          "output_type": "display_data",
          "data": {
            "image/png": "[encoded data removed]",
            "text/plain": [
              "<Figure size 432x288 with 1 Axes>"
            ]
          },
          "metadata": {
            "tags": [],
            "needs_background": "light"
          }
        }
      ]
    },
    {
      "cell_type": "markdown",
      "metadata": {
        "id": "ltvlLwXF-eAH"
      },
      "source": [
        "We continue with a rudimentary scatter plot example. This example displays samples from the [iris dataset](https://scikit-learn.org/stable/modules/generated/sklearn.datasets.load_iris.html) using the first two features. Colors indicate class membership (there are 3 classes)."
      ]
    },
    {
      "cell_type": "code",
      "metadata": {
        "id": "sEzcJAmy-hbK",
        "colab": {
          "base_uri": "https://localhost:8080/",
          "height": 268
        },
        "outputId": "7d965d22-d0b6-41d5-9f80-f5d6a7d7f93f"
      },
      "source": [
        "from sklearn.datasets import load_iris\n",
        "X, y = load_iris(return_X_y=True)\n",
        "\n",
        "X_class0 = X[y == 0]\n",
        "X_class1 = X[y == 1]\n",
        "X_class2 = X[y == 2]\n",
        "\n",
        "plt.figure()\n",
        "plt.scatter(X_class0[:, 0], X_class0[:, 1], label=\"Class 0\", color=\"C0\")\n",
        "plt.scatter(X_class1[:, 0], X_class1[:, 1], label=\"Class 1\", color=\"C1\")\n",
        "plt.scatter(X_class2[:, 0], X_class2[:, 1], label=\"Class 2\", color=\"C2\")\n",
        "plt.show()"
      ],
      "execution_count": null,
      "outputs": [
        {
          "output_type": "display_data",
          "data": {
            "image/png": "[encoded data removed]",
            "text/plain": [
              "<Figure size 432x288 with 1 Axes>"
            ]
          },
          "metadata": {
            "tags": [],
            "needs_background": "light"
          }
        }
      ]
    },
    {
      "cell_type": "markdown",
      "metadata": {
        "id": "5vjln9qwAc3M"
      },
      "source": [
        "We see that samples belonging to class 0 can be linearly separated from the rest using only the first two features."
      ]
    },
    {
      "cell_type": "markdown",
      "metadata": {
        "id": "uVWuIUs2AQ5a"
      },
      "source": [
        "## Exercises\n",
        "\n"
      ]
    },
    {
      "cell_type": "markdown",
      "metadata": {
        "id": "1X6-g6zgCwJd"
      },
      "source": [
        "**Exercise 1.** Plot the relu and the [softplus](https://en.wikipedia.org/wiki/Rectifier_(neural_networks)#Softplus) functions on the same graph."
      ]
    },
    {
      "cell_type": "code",
      "metadata": {
        "id": "Ob6HZUX0DJ8y"
      },
      "source": [],
      "execution_count": null,
      "outputs": []
    },
    {
      "cell_type": "markdown",
      "metadata": {
        "id": "vpRGfz0aDW3l"
      },
      "source": [
        "What is the main difference between the two functions?"
      ]
    },
    {
      "cell_type": "markdown",
      "metadata": {
        "id": "JjDeIufRAYVL"
      },
      "source": [
        "**Exercise 2.** Repeat the same scatter plot but using the [digits dataset](https://scikit-learn.org/stable/modules/generated/sklearn.datasets.load_digits.html) instead."
      ]
    },
    {
      "cell_type": "code",
      "metadata": {
        "id": "-JU3TXCBBB0c"
      },
      "source": [
        "from sklearn.datasets import load_digits\n",
        "X, y = load_digits(return_X_y=True)"
      ],
      "execution_count": null,
      "outputs": []
    },
    {
      "cell_type": "markdown",
      "metadata": {
        "id": "w7wPWdmXBQA2"
      },
      "source": [
        "Are pixel values good features for classifying samples?"
      ]
    },
    {
      "cell_type": "markdown",
      "metadata": {
        "id": "dYM-oV1jD3RV"
      },
      "source": [
        "## Going further\n",
        "\n",
        "*  Official [tutorial](https://matplotlib.org/tutorials/introductory/pyplot.html)\n",
        "* [Tutorial](https://www.youtube.com/watch?v=qErBw-R2Ybk) on Youtube"
      ]
    }
  ]
}