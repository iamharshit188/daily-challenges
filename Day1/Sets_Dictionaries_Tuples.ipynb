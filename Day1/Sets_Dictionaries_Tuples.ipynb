{
 "cells": [
  {
   "cell_type": "markdown",
   "id": "894b7797-daee-49ec-9224-f180322634d4",
   "metadata": {},
   "source": [
    "# Sets in Python \n",
    "A set is an unordered collection data type that is iterable, mutable, and has **no duplicate element**. Python represent the mathematical notion of a set. \n",
    "> This is based on a data structure known as hashtable"
   ]
  }
 ],
 "metadata": {
  "kernelspec": {
   "display_name": "Python 3 (ipykernel)",
   "language": "python",
   "name": "python3"
  },
  "language_info": {
   "codemirror_mode": {
    "name": "ipython",
    "version": 3
   },
   "file_extension": ".py",
   "mimetype": "text/x-python",
   "name": "python",
   "nbconvert_exporter": "python",
   "pygments_lexer": "ipython3",
   "version": "3.13.4"
  }
 },
 "nbformat": 4,
 "nbformat_minor": 5
}
